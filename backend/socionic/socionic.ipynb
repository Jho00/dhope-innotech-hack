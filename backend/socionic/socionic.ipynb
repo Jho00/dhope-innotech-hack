{
  "nbformat": 4,
  "nbformat_minor": 0,
  "metadata": {
    "colab": {
      "name": "Copy of DinovRK neural_course_socionic_photos.ipynb",
      "provenance": [],
      "collapsed_sections": [
        "aoRgz9TVK6km"
      ]
    },
    "kernelspec": {
      "name": "python3",
      "display_name": "Python 3"
    },
    "accelerator": "GPU"
  },
  "cells": [
    {
      "cell_type": "code",
      "metadata": {
        "id": "J-9dE2J4DJM0"
      },
      "source": [
        "from tensorflow.keras.applications.vgg16 import VGG16\n",
        "from tensorflow.keras.applications.inception_v3 import InceptionV3\n",
        "from tensorflow.keras.preprocessing import image\n",
        "from tensorflow.keras.models import Sequential, Model\n",
        "from tensorflow.keras.layers import Dense, Flatten, Dropout, BatchNormalization, GlobalAveragePooling2D\n",
        "from tensorflow.python.keras.optimizers import Adam\n",
        "from tensorflow.keras.callbacks import EarlyStopping, ModelCheckpoint\n",
        "from tensorflow.python.keras.preprocessing.image import ImageDataGenerator\n",
        "from google.colab import files\n",
        "import numpy as np\n",
        "import matplotlib.pyplot as plt\n",
        "from scipy.misc import toimage\n",
        "from IPython.display import Image\n",
        "%matplotlib inline \n",
        "\n",
        "def renderTrainingResults(history):\n",
        "  if 'val_acc' in history.history:\n",
        "    print('val_acc', history.history['val_acc'][-1], 'val_loss', history.history['val_loss'][-1])\n",
        "  print('acc', history.history['acc'][-1], 'loss', history.history['loss'][-1])\n",
        "  \n",
        "  plt.plot(history.history['acc'], \n",
        "           label='Доля верных ответов на обучающем наборе')\n",
        "  if 'val_acc' in history.history:\n",
        "    plt.plot(history.history['val_acc'], \n",
        "           label='Доля верных ответов на проверочном наборе')\n",
        "  plt.xlabel('Эпоха обучения')\n",
        "  plt.ylabel('Доля верных ответов')\n",
        "  plt.legend()\n",
        "  plt.show()"
      ],
      "execution_count": null,
      "outputs": []
    },
    {
      "cell_type": "markdown",
      "metadata": {
        "id": "9-0x1M_gxblZ"
      },
      "source": [
        "## Загрузка данных с Google Drive"
      ]
    },
    {
      "cell_type": "code",
      "metadata": {
        "id": "HekyuNOxxSmJ"
      },
      "source": [
        "from google.colab import drive\n",
        "drive.mount('/content/gdrive', force_remount=True)"
      ],
      "execution_count": null,
      "outputs": []
    },
    {
      "cell_type": "code",
      "metadata": {
        "id": "GYrenzCq3tx9"
      },
      "source": [
        "!df -h"
      ],
      "execution_count": null,
      "outputs": []
    },
    {
      "cell_type": "code",
      "metadata": {
        "id": "NWA6r4GZxw7I",
        "colab": {
          "base_uri": "https://localhost:8080/",
          "height": 34
        },
        "outputId": "8792911c-3c71-4aa1-fec1-fb70919f747a"
      },
      "source": [
        "!cp /content/gdrive/'My Drive'/socionic_dataset/ethical-logical-photos.zip .\n",
        "!ls"
      ],
      "execution_count": null,
      "outputs": [
        {
          "output_type": "stream",
          "text": [
            "ethical-logical-photos.zip  gdrive  sample_data\n"
          ],
          "name": "stdout"
        }
      ]
    },
    {
      "cell_type": "code",
      "metadata": {
        "id": "h8FirmMAyAC-"
      },
      "source": [
        "!mkdir ./ethical-logical-photos\n",
        "!unzip ethical-logical-photos.zip -d ethical-logical-photos"
      ],
      "execution_count": null,
      "outputs": []
    },
    {
      "cell_type": "code",
      "metadata": {
        "id": "EUdhqP6iyFY3"
      },
      "source": [
        "!ls ethical-logical-photos/"
      ],
      "execution_count": null,
      "outputs": []
    },
    {
      "cell_type": "code",
      "metadata": {
        "id": "a3g5TG9_Joct"
      },
      "source": [
        "Image('ethical-logical-photos/Logical/32.jpg')"
      ],
      "execution_count": null,
      "outputs": []
    },
    {
      "cell_type": "code",
      "metadata": {
        "id": "UvD4cPNJyaG4"
      },
      "source": [
        "Image('ethical-logical-photos/Ethical/Ivan Ohlobistin_6.jpg')"
      ],
      "execution_count": null,
      "outputs": []
    },
    {
      "cell_type": "markdown",
      "metadata": {
        "id": "L2oteaoeZuRQ"
      },
      "source": [
        "## Создаем генератор изображений"
      ]
    },
    {
      "cell_type": "code",
      "metadata": {
        "id": "84E2oHNlANz1"
      },
      "source": [
        "train_dir = 'ethical-logical-photos'\n",
        "img_width, img_height = 500, 500\n",
        "input_shape = (img_width, img_height, 3)\n",
        "batch_size = 32"
      ],
      "execution_count": null,
      "outputs": []
    },
    {
      "cell_type": "code",
      "metadata": {
        "id": "74YxVvc2Z2zg"
      },
      "source": [
        "datagen = ImageDataGenerator(rescale=1. / 255,\n",
        "                             rotation_range=10,\n",
        "                             width_shift_range=0.1,\n",
        "                             height_shift_range=0.1,\n",
        "                             horizontal_flip=True,\n",
        "                             zoom_range=0.1,\n",
        "                             validation_split=0.2)"
      ],
      "execution_count": null,
      "outputs": []
    },
    {
      "cell_type": "code",
      "metadata": {
        "id": "LmJYFGAEZz1I"
      },
      "source": [
        "train_generator = datagen.flow_from_directory(\n",
        "    train_dir,\n",
        "    target_size=(img_width, img_height),\n",
        "    batch_size=batch_size,\n",
        "    shuffle=True,\n",
        "    class_mode='binary',\n",
        "    subset='training')"
      ],
      "execution_count": null,
      "outputs": []
    },
    {
      "cell_type": "code",
      "metadata": {
        "id": "kkYqCqLJnxJs"
      },
      "source": [
        "train_generator.class_indices"
      ],
      "execution_count": null,
      "outputs": []
    },
    {
      "cell_type": "code",
      "metadata": {
        "id": "plo0Q0Nnz-6A"
      },
      "source": [
        "val_generator = datagen.flow_from_directory(\n",
        "    train_dir,\n",
        "    target_size=(img_width, img_height),\n",
        "    batch_size=batch_size,\n",
        "    shuffle=False,\n",
        "    class_mode='binary',\n",
        "    subset='validation')"
      ],
      "execution_count": null,
      "outputs": []
    },
    {
      "cell_type": "code",
      "metadata": {
        "id": "SrVOlO4Cnved"
      },
      "source": [
        "val_generator.class_indices"
      ],
      "execution_count": null,
      "outputs": []
    },
    {
      "cell_type": "code",
      "metadata": {
        "id": "ewPVc6MdR_ab"
      },
      "source": [
        "nb_train_samples = 973\n",
        "nb_val_samples = 242"
      ],
      "execution_count": null,
      "outputs": []
    },
    {
      "cell_type": "markdown",
      "metadata": {
        "id": "V2qibbY3YVK_"
      },
      "source": [
        "## Создаем и обучаем составную нейросеть на основе VGG16\n"
      ]
    },
    {
      "cell_type": "code",
      "metadata": {
        "id": "dEA8Tydf_N61"
      },
      "source": [
        "vgg16_net = VGG16(weights='imagenet', \n",
        "                  include_top=False, \n",
        "                  input_shape=input_shape)\n",
        "vgg16_net.trainable = False"
      ],
      "execution_count": null,
      "outputs": []
    },
    {
      "cell_type": "code",
      "metadata": {
        "id": "3Ecv6lcLYX6P"
      },
      "source": [
        "сheckpoint = ModelCheckpoint('ethical-logical-photos.h5',\n",
        "                              monitor='val_acc', \n",
        "                              save_best_only=True,\n",
        "                              verbose=1)\n",
        "\n",
        "early_stopping = EarlyStopping(monitor='val_acc', \n",
        "                               patience=10)\n",
        "\n",
        "model = Sequential()\n",
        "model.add(vgg16_net)\n",
        "model.add(Flatten())\n",
        "model.add(Dense(256, activation='relu'))\n",
        "model.add(Dropout(0.2))\n",
        "model.add(Dense(1, activation='sigmoid'))\n",
        "\n",
        "model.compile(loss='binary_crossentropy',\n",
        "              optimizer=Adam(lr=1e-5),\n",
        "              metrics=['accuracy'])\n",
        "\n",
        "history = model.fit_generator(\n",
        "    train_generator,\n",
        "    steps_per_epoch=nb_train_samples // batch_size,\n",
        "    epochs=50,\n",
        "    validation_data=val_generator,\n",
        "    validation_steps=nb_val_samples // batch_size,\n",
        "    verbose=2,\n",
        "    callbacks=[сheckpoint, early_stopping]\n",
        ")\n",
        "\n",
        "renderTrainingResults(history)"
      ],
      "execution_count": null,
      "outputs": []
    },
    {
      "cell_type": "code",
      "metadata": {
        "id": "p-FcOS0TkT6K"
      },
      "source": [
        "# Загрузка сохраненых весов с наилучшим результатом\n",
        "files.download('is-animated-vgg16.h5')"
      ],
      "execution_count": null,
      "outputs": []
    },
    {
      "cell_type": "code",
      "metadata": {
        "id": "ADYLGAjbsklf"
      },
      "source": [
        "files.upload()"
      ],
      "execution_count": null,
      "outputs": []
    },
    {
      "cell_type": "code",
      "metadata": {
        "id": "v2JZszAsK4Mm"
      },
      "source": [
        "# Загрузка модели с сохраненными весами:\n",
        "\n",
        "model = Sequential()\n",
        "model.add(vgg16_net)\n",
        "model.add(Flatten())\n",
        "model.add(Dense(256, activation='relu'))\n",
        "model.add(Dropout(0.2))\n",
        "model.add(Dense(1, activation='sigmoid'))\n",
        "\n",
        "model.load_weights(\"is-animated-vgg16.h5\")\n",
        "\n",
        "model.compile(Adam(lr=1e-5), loss='binary_crossentropy', metrics=['categorical_accuracy'])"
      ],
      "execution_count": null,
      "outputs": []
    },
    {
      "cell_type": "markdown",
      "metadata": {
        "id": "51ZaR2Ycdlkh"
      },
      "source": [
        "### Тонкая настройка сети (для VGG16) "
      ]
    },
    {
      "cell_type": "markdown",
      "metadata": {
        "id": "tOSSaFKRdqLZ"
      },
      "source": [
        "\"Размораживаем\" последний сверточный блок сети VGG16"
      ]
    },
    {
      "cell_type": "code",
      "metadata": {
        "id": "Fgfwt-JcdsEQ"
      },
      "source": [
        "vgg16_net.trainable = True\n",
        "trainable = False\n",
        "for layer in vgg16_net.layers:\n",
        "    if layer.name == 'block4_conv1':\n",
        "        trainable = True\n",
        "    layer.trainable = trainable"
      ],
      "execution_count": null,
      "outputs": []
    },
    {
      "cell_type": "code",
      "metadata": {
        "id": "DThuiFl4hpgj"
      },
      "source": [
        "model.compile(loss='binary_crossentropy',\n",
        "              optimizer=SGD(lr=1e-6), \n",
        "              metrics=['accuracy'])"
      ],
      "execution_count": null,
      "outputs": []
    },
    {
      "cell_type": "code",
      "metadata": {
        "id": "AwQKhJ6HdwEI"
      },
      "source": [
        "# Проверяем количество обучаемых параметров\n",
        "model.summary()"
      ],
      "execution_count": null,
      "outputs": []
    },
    {
      "cell_type": "code",
      "metadata": {
        "id": "ajIyv0B_d7yx"
      },
      "source": [
        "model.fit_generator(\n",
        "    train_generator,\n",
        "    steps_per_epoch=nb_train_samples // batch_size,\n",
        "    epochs=4,\n",
        "    #validation_data=val_generator,\n",
        ")"
      ],
      "execution_count": null,
      "outputs": []
    },
    {
      "cell_type": "markdown",
      "metadata": {
        "id": "aoRgz9TVK6km"
      },
      "source": [
        "## Создаем и обучаем составную нейронную сеть на основе Inception"
      ]
    },
    {
      "cell_type": "code",
      "metadata": {
        "id": "b9S45kwfK6kr"
      },
      "source": [
        "inception = InceptionV3(weights='imagenet', include_top=False)\n",
        "for layer in inception.layers:\n",
        "    layer.trainable = False"
      ],
      "execution_count": null,
      "outputs": []
    },
    {
      "cell_type": "code",
      "metadata": {
        "id": "tqTaSCSqLGQE"
      },
      "source": [
        "сheckpoint = ModelCheckpoint('ethical-logical-photos.h5',\n",
        "                              monitor='val_acc', \n",
        "                              save_best_only=True,\n",
        "                              verbose=1)\n",
        "\n",
        "x = inception.output\n",
        "x = GlobalAveragePooling2D()(x)\n",
        "x = Dense(512, activation='relu')(x)\n",
        "x = Dropout(0.2)(x)\n",
        "predictions = Dense(1, activation='sigmoid')(x)\n",
        "model = Model(inputs=inception.input, outputs=predictions)\n",
        "\n",
        "model.compile(loss='binary_crossentropy',\n",
        "              optimizer=Adam(lr=1e-5), \n",
        "              metrics=['accuracy'])\n",
        "\n",
        "history = model.fit_generator(\n",
        "    train_generator,\n",
        "    steps_per_epoch=nb_train_samples // batch_size,\n",
        "    epochs=20,\n",
        "    validation_data=val_generator,\n",
        "    verbose=1,\n",
        "    callbacks=[сheckpoint]\n",
        ")\n",
        "\n",
        "renderTrainingResults(history)"
      ],
      "execution_count": null,
      "outputs": []
    },
    {
      "cell_type": "markdown",
      "metadata": {
        "id": "_W03Ar-drzOq"
      },
      "source": [
        "## Проверка качества работы обученной сети на нескольких образцах"
      ]
    },
    {
      "cell_type": "code",
      "metadata": {
        "id": "WvRrlU_tkg2f"
      },
      "source": [
        "files.upload()\n",
        "!unzip test_samples.zip\n",
        "!ls"
      ],
      "execution_count": null,
      "outputs": []
    },
    {
      "cell_type": "code",
      "metadata": {
        "id": "MoX-LnxRMKkf"
      },
      "source": [
        "import glob\n",
        "\n",
        "test_images_paths = glob.glob('test_samples/' + \"*.jpg\")\n",
        "\n",
        "for image_path in test_images_paths:\n",
        "  img = image.load_img(image_path)\n",
        "  img = img.resize((img_width, img_height))\n",
        "\n",
        "  predictions = model.predict(np.expand_dims(img, axis=0))\n",
        "  prediction = predictions[0][0]\n",
        "  prediction = prediction > 0.5\n",
        "  \n",
        "  print('----------')\n",
        "  print('Тип личности по фото распознано как', '\"Logical\":' if prediction else '\"Ethical\":')\n",
        "  plt.imshow(img)\n",
        "  plt.show()"
      ],
      "execution_count": null,
      "outputs": []
    }
  ]
}